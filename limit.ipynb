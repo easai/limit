{
 "cells": [
  {
   "cell_type": "markdown",
   "id": "a3fd1214",
   "metadata": {},
   "source": [
    "# Limits\n",
    "\n",
    "$$\n",
    "\\lim_{x\\rarr 0} \\frac{\\sin(x)}{x} = 1\n",
    "$$"
   ]
  },
  {
   "cell_type": "code",
   "execution_count": 2,
   "id": "d4b7372e",
   "metadata": {},
   "outputs": [
    {
     "data": {
      "text/latex": [
       "$\\displaystyle 1$"
      ],
      "text/plain": [
       "1"
      ]
     },
     "execution_count": 2,
     "metadata": {},
     "output_type": "execute_result"
    }
   ],
   "source": [
    "from sympy import symbols, limit, sin\n",
    "\n",
    "x = symbols(\"x\")\n",
    "f = sin(x) / x\n",
    "limit(f, x, 0)"
   ]
  },
  {
   "cell_type": "markdown",
   "id": "ba8b2ca5",
   "metadata": {},
   "source": [
    "$$\n",
    "\\lim_{x\\rarr 0} \\frac{1-\\cos(x)}{x} = 0\n",
    "$$"
   ]
  },
  {
   "cell_type": "code",
   "execution_count": 5,
   "id": "cd42f993",
   "metadata": {},
   "outputs": [
    {
     "data": {
      "text/latex": [
       "$\\displaystyle 0$"
      ],
      "text/plain": [
       "0"
      ]
     },
     "execution_count": 5,
     "metadata": {},
     "output_type": "execute_result"
    }
   ],
   "source": [
    "from sympy import cos\n",
    "\n",
    "x = symbols(\"x\")\n",
    "f = (1-cos(x)) / x\n",
    "limit(f, x, 0)"
   ]
  },
  {
   "cell_type": "markdown",
   "id": "0dd8451b",
   "metadata": {},
   "source": [
    "$$\n",
    "\\lim_{x\\rarr 0} \\frac{\\log(1+x)}{x} = 1\n",
    "$$"
   ]
  },
  {
   "cell_type": "code",
   "execution_count": 12,
   "id": "9a3d1ff2",
   "metadata": {},
   "outputs": [
    {
     "data": {
      "text/latex": [
       "$\\displaystyle 1$"
      ],
      "text/plain": [
       "1"
      ]
     },
     "execution_count": 12,
     "metadata": {},
     "output_type": "execute_result"
    }
   ],
   "source": [
    "from sympy import log\n",
    "\n",
    "x = symbols(\"x\")\n",
    "f = log(1 + x) / x\n",
    "limit(f, x, 0)"
   ]
  },
  {
   "cell_type": "markdown",
   "id": "09c578f9",
   "metadata": {},
   "source": [
    "$$\n",
    "\\lim_{x\\rarr \\infty} (1+\\frac{1}{x})^x = e\n",
    "$$"
   ]
  },
  {
   "cell_type": "code",
   "execution_count": 16,
   "id": "ede9577d",
   "metadata": {},
   "outputs": [
    {
     "data": {
      "text/latex": [
       "$\\displaystyle e$"
      ],
      "text/plain": [
       "E"
      ]
     },
     "execution_count": 16,
     "metadata": {},
     "output_type": "execute_result"
    }
   ],
   "source": [
    "from sympy import E, oo\n",
    "\n",
    "x = symbols(\"x\")\n",
    "f = (1 + 1 / x) ** x\n",
    "limit(f, x, oo)"
   ]
  },
  {
   "cell_type": "markdown",
   "id": "0571df1b",
   "metadata": {},
   "source": [
    "$$\n",
    "\\lim_{x\\rarr 0} (1+x)^\\frac{1}{x} = e\n",
    "$$"
   ]
  },
  {
   "cell_type": "code",
   "execution_count": 15,
   "id": "c48e8230",
   "metadata": {},
   "outputs": [
    {
     "data": {
      "text/latex": [
       "$\\displaystyle e$"
      ],
      "text/plain": [
       "E"
      ]
     },
     "execution_count": 15,
     "metadata": {},
     "output_type": "execute_result"
    }
   ],
   "source": [
    "x = symbols(\"x\")\n",
    "f = (1 + x) ** (1 / x)\n",
    "limit(f, x, 0)"
   ]
  },
  {
   "cell_type": "markdown",
   "id": "7ff70655",
   "metadata": {},
   "source": [
    "$$\n",
    "\\lim_{x\\rarr 0} \\frac{e^x-1}{x} = 1\n",
    "$$"
   ]
  },
  {
   "cell_type": "code",
   "execution_count": 18,
   "id": "9d9eca73",
   "metadata": {},
   "outputs": [
    {
     "data": {
      "text/latex": [
       "$\\displaystyle 1$"
      ],
      "text/plain": [
       "1"
      ]
     },
     "execution_count": 18,
     "metadata": {},
     "output_type": "execute_result"
    }
   ],
   "source": [
    "from sympy import E\n",
    "\n",
    "x = symbols(\"x\")\n",
    "f = (E**x - 1) / x\n",
    "limit(f, x, 0)"
   ]
  }
 ],
 "metadata": {
  "kernelspec": {
   "display_name": "Python 3 (ipykernel)",
   "language": "python",
   "name": "python3"
  },
  "language_info": {
   "codemirror_mode": {
    "name": "ipython",
    "version": 3
   },
   "file_extension": ".py",
   "mimetype": "text/x-python",
   "name": "python",
   "nbconvert_exporter": "python",
   "pygments_lexer": "ipython3",
   "version": "3.11.5"
  }
 },
 "nbformat": 4,
 "nbformat_minor": 5
}
